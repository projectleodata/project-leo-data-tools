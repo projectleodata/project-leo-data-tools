{
 "cells": [
  {
   "cell_type": "markdown",
   "metadata": {},
   "source": [
    "\n",
    "&nbsp;\n",
    "&nbsp;\n",
    "\n",
    "&nbsp;\n",
    "\n"
   ]
  },
  {
   "cell_type": "markdown",
   "metadata": {},
   "source": [
    "<img src=\"https://project-leo.co.uk/wp-content/themes/project-leo/assets/img/project-leo.png\"/>\n"
   ]
  },
  {
   "cell_type": "markdown",
   "metadata": {},
   "source": [
    "  \n",
    "  \n",
    "&nbsp;\n",
    "&nbsp;\n",
    "    \n",
    "\n",
    "  \n",
    "  # Time Syncing Notebook"
   ]
  },
  {
   "cell_type": "markdown",
   "metadata": {},
   "source": [
    "  &nbsp;\n",
    "  \n",
    "  \n",
    "  This Project LEO Notebook is to be used for the detection of any errors in energy data (for two datasets) where there may exist discrepancies through the lagging of power data. **This Notebook does assume some level of programming experience**. Please contact the University of Oxford [Data Coordinator](mailto:masao.ashtine@oerc.ox.ac.uk) if you would like any help with using this or any other notebooks. \n",
    "  \n",
    "  This Notebook has a user-friendly version where the code is kept in the background, allowing you to move through the running of the cells (using the 'Run' button in the Menu above), only viewing the output graphs and information. If you would like this experience, use the cell below and follow the instructions. Alternatively, you can install the `jupyter_contrib_nbextensions` package to use the `codefolding` extenstion which allows the coding cells to be collapsible. \n",
    "  \n",
    "  If you would like to control this notebook more (owing to error checking or otherwise) please follow the intructions in the cell below. Any visible cell can be controlled and edited by double-clicking the content. Use **Shift+Enter** to run the cell. **However, it is STRONGLY recommended to note any changes that you have made with commenting, using your initials as well. Eg: '# [MA]: The following line was indented for increased readability'"
   ]
  },
  {
   "cell_type": "markdown",
   "metadata": {},
   "source": [
    "<details><summary><b>Want a more user-friendly experience? Click here and follow these instructions</b></summary>\n",
    "<p>\n",
    "\n",
    "The following code can be run to to hide all input coding cells to create a more user-friendly Notebook. To unhide all of the coding blocks to make any edits, simply select 'Kernel' in the Menu above, and then select 'Restart & Clear Output'. Please note that this will delete any created variables and information from memory and you will need to rerun the cells.\n",
    "\n",
    "To run the following code, use the following cell to input the block of code below (starting wil '%', ending with '</style>'). Run this cell to then hide all input code cells.\n",
    "\n",
    "```html\n",
    "%%html\n",
    "<style>\n",
    "div.input {\n",
    "    display:none;\n",
    "}\n",
    "</style>\n",
    "```\n",
    "\n",
    "</p>\n",
    "</details>\n",
    "\n",
    "\n"
   ]
  },
  {
   "cell_type": "code",
   "execution_count": null,
   "metadata": {
    "code_folding": [
     0
    ]
   },
   "outputs": [],
   "source": [
    "%%html \n",
    "<style>\n",
    "div.input {\n",
    "    display:none;\n",
    "}\n",
    "</style>"
   ]
  },
  {
   "cell_type": "markdown",
   "metadata": {},
   "source": [
    "## Importing the relevant libraries \n",
    "\n",
    "&nbsp;\n",
    "\n",
    "The cell below, hidden or otherwise, will be used to import the libraries needed for the analysis of the data. Note, you may need to install some of these libraries manually and this can be done using the `pip install` functionality from your terminal. See [here](https://packaging.python.org/tutorials/installing-packages/) for more information. Some of these have been setup for running in the cell which follows the importation of the libraries.\n",
    "\n",
    "This notebook also relies on the `ipywidgets` library and thus if you do not have this on a your local computer, you will have to follow the intructions found [here](https://towardsdatascience.com/interactive-controls-for-jupyter-notebooks-f5c94829aee6) to install it with relative ease! Some example plots using this and other libraries can be found [here](https://mybinder.org/v2/gh/WillKoehrsen/Data-Analysis/widgets-stable?filepath=widgets%2FWidgets-Overview.ipynb).\n",
    "\n",
    "&nbsp;"
   ]
  },
  {
   "cell_type": "code",
   "execution_count": 1,
   "metadata": {
    "code_folding": [
     0
    ]
   },
   "outputs": [
    {
     "data": {
      "text/html": [
       "        <script type=\"text/javascript\">\n",
       "        window.PlotlyConfig = {MathJaxConfig: 'local'};\n",
       "        if (window.MathJax) {MathJax.Hub.Config({SVG: {font: \"STIX-Web\"}});}\n",
       "        if (typeof require !== 'undefined') {\n",
       "        require.undef(\"plotly\");\n",
       "        requirejs.config({\n",
       "            paths: {\n",
       "                'plotly': ['https://cdn.plot.ly/plotly-latest.min']\n",
       "            }\n",
       "        });\n",
       "        require(['plotly'], function(Plotly) {\n",
       "            window._Plotly = Plotly;\n",
       "        });\n",
       "        }\n",
       "        </script>\n",
       "        "
      ]
     },
     "metadata": {},
     "output_type": "display_data"
    },
    {
     "data": {
      "text/html": [
       "        <script type=\"text/javascript\">\n",
       "        window.PlotlyConfig = {MathJaxConfig: 'local'};\n",
       "        if (window.MathJax) {MathJax.Hub.Config({SVG: {font: \"STIX-Web\"}});}\n",
       "        if (typeof require !== 'undefined') {\n",
       "        require.undef(\"plotly\");\n",
       "        requirejs.config({\n",
       "            paths: {\n",
       "                'plotly': ['https://cdn.plot.ly/plotly-latest.min']\n",
       "            }\n",
       "        });\n",
       "        require(['plotly'], function(Plotly) {\n",
       "            window._Plotly = Plotly;\n",
       "        });\n",
       "        }\n",
       "        </script>\n",
       "        "
      ]
     },
     "metadata": {},
     "output_type": "display_data"
    }
   ],
   "source": [
    "# Importation of libraries \n",
    "\n",
    "# Importation of Numerical Libraries\n",
    "from scipy import signal, fftpack, optimize\n",
    "from pymongo import MongoClient, errors\n",
    "import ipywidgets as widgets\n",
    "from getpass import getpass\n",
    "import pandas as pd\n",
    "import numpy as np\n",
    "import ssl, sys\n",
    "import csv\n",
    "\n",
    "# Importation of Visualization Libraries\n",
    "from plotly.offline import iplot, init_notebook_mode, plot\n",
    "from ipywidgets import interact, interact_manual\n",
    "from plotly.subplots import make_subplots\n",
    "from matplotlib import pyplot as plt\n",
    "from IPython.display import display\n",
    "import chart_studio.plotly as py\n",
    "import plotly.graph_objs as go\n",
    "import cufflinks as cf\n",
    "\n",
    "# Configurations\n",
    "cf.set_config_file(colorscale='plotly')\n",
    "init_notebook_mode(connected=True)\n",
    "cf.go_offline(connected=True)\n",
    "\n"
   ]
  },
  {
   "cell_type": "code",
   "execution_count": null,
   "metadata": {
    "code_folding": [
     0
    ]
   },
   "outputs": [],
   "source": [
    "# Use this cell to install any libraries that may be absent on the server.\n",
    "# You may need to restart the kernel/reload the notebook after installation\n",
    "!pip install chart-studio\n",
    "!pip install dnspython"
   ]
  },
  {
   "cell_type": "markdown",
   "metadata": {},
   "source": [
    "## Importing the Energy Data\n",
    "\n",
    "&nbsp;\n",
    "\n",
    "The cells below will ask you to input the file paths for the two datasets that you would like to compare. It is important to use the **FULL** and correct paths for the data. Please ensure that the data has been cleaned and you can use the scripts found on the [Project LEO Bitbucket Repository](https://bitbucket.org/projectleodata/project-leo-database/src/master/).\n",
    "  \n",
    "  Please note that if you need to read data from an Excel Spreadsheet, you will need to adjust the cell below to account for this using the Pandas `read_excel` function or one of your choosing.\n",
    "  \n",
    "  You will also be asked to input the position of any *Date* and *Time* columns in the datasets. If a *Date* column is the first, and *Time* the second, simply input `0, 1`. If you have a single column of date and time, enter `0` if it is the first column (or any subsequent position where appropriate).\n",
    "  \n",
    "  &nbsp;"
   ]
  },
  {
   "cell_type": "code",
   "execution_count": 3,
   "metadata": {
    "code_folding": [
     0
    ]
   },
   "outputs": [
    {
     "data": {
      "application/vnd.jupyter.widget-view+json": {
       "model_id": "702bebd04340459f8a88118caa22e3d3",
       "version_major": 2,
       "version_minor": 0
      },
      "text/plain": [
       "Text(value='Replace this with csv/txt path', description='Site 1: ')"
      ]
     },
     "metadata": {},
     "output_type": "display_data"
    },
    {
     "data": {
      "application/vnd.jupyter.widget-view+json": {
       "model_id": "a81eaeacef784fbdb5ff00268eff8e2b",
       "version_major": 2,
       "version_minor": 0
      },
      "text/plain": [
       "Text(value='Replace this with csv/txt path', description='Site 2: ')"
      ]
     },
     "metadata": {},
     "output_type": "display_data"
    },
    {
     "data": {
      "application/vnd.jupyter.widget-view+json": {
       "model_id": "16ebbee4ce8c468da6d30d2e6b2a8272",
       "version_major": 2,
       "version_minor": 0
      },
      "text/plain": [
       "Text(value='Eg: 0, 1', description='Site 1 Time: ')"
      ]
     },
     "metadata": {},
     "output_type": "display_data"
    },
    {
     "data": {
      "application/vnd.jupyter.widget-view+json": {
       "model_id": "04653406b98e4864ab8c6cccd5bee0c8",
       "version_major": 2,
       "version_minor": 0
      },
      "text/plain": [
       "Text(value='Eg: 0, 1', description='Site 2 Time: ')"
      ]
     },
     "metadata": {},
     "output_type": "display_data"
    }
   ],
   "source": [
    "# User input of the site data \n",
    "\n",
    "# This cell uses an interactive method to obtain the file paths from the user\n",
    "# It also asks for the position of the date/time columns \n",
    "class data_input():\n",
    "    def __init__(self, \n",
    "                 sites = 'Replace this with csv/txt path', \n",
    "                 times = 'Eg: 0, 1'\n",
    "                ):\n",
    "        \n",
    "        # These widgets allow the user to input text options\n",
    "        self.site1_data = widgets.Text(description = 'Site 1: ',value = sites)\n",
    "        self.site2_data = widgets.Text(description = 'Site 2: ',value = sites)\n",
    "        self.time1 = widgets.Text(description = 'Site 1 Time: ',value = times) \n",
    "        self.time2 = widgets.Text(description = 'Site 2 Time: ',value = times) \n",
    "        \n",
    "        # The following allows for storage of the input data into a variable after entry\n",
    "        # This relies on the 'handle_submit' function below.\n",
    "        self.site1_data.on_submit(self.handle_submit)\n",
    "        self.site2_data.on_submit(self.handle_submit)\n",
    "        self.time1.on_submit(self.handle_submit)\n",
    "        self.time2.on_submit(self.handle_submit)\n",
    "        \n",
    "        # Displays the widgets\n",
    "        display(self.site1_data, self.site2_data, self.time1, self.time2)\n",
    "        \n",
    "    def handle_submit(self, text):\n",
    "        self.v = text.value\n",
    "        return self.v\n",
    "\n",
    "# Initializes the class defined above\n",
    "data_input = data_input()\n"
   ]
  },
  {
   "cell_type": "code",
   "execution_count": 4,
   "metadata": {
    "code_folding": [
     0
    ]
   },
   "outputs": [],
   "source": [
    "# Loading the data into memory through Pandas \n",
    "\n",
    "# The data will now be read into Python using the Pandas framework\n",
    "# First part separates the user input by the comma\n",
    "time_cols1 = [int(p) for p in data_input.time1.value.split(\", \")]\n",
    "time_cols2 = [int(p) for p in data_input.time2.value.split(\", \")]\n",
    "\n",
    "# This part of the code automatically determines the delimiter of any submitted txt file, if one was submitted\n",
    "if data_input.site1_data.value.split('.')[-1] == 'txt':\n",
    "    with open(data_input.site1_data.value, 'r') as csvfile:\n",
    "        dialect = csv.Sniffer().sniff(csvfile.read(1024))\n",
    "    site1_df = pd.read_csv(data_input.site1_data.value, delimiter=dialect.delimiter, parse_dates={\"timestamp\":time_cols1})\n",
    "    site1_df.set_index(\"timestamp\", inplace=True)\n",
    "else:\n",
    "    site1_df = pd.read_csv(data_input.site1_data.value, parse_dates={\"timestamp\":time_cols1})\n",
    "    site1_df.set_index(\"timestamp\", inplace=True)\n",
    "\n",
    "# Does the same for the second site\n",
    "if data_input.site2_data.value.split('.')[-1] == 'txt':\n",
    "    with open(data_input.site2_data.value, 'r') as csvfile:\n",
    "        dialect = csv.Sniffer().sniff(csvfile.read(1024))\n",
    "    site2_df = pd.read_csv(data_input.site2_data.value, delimiter=dialect.delimiter, parse_dates={\"timestamp\":time_cols2})\n",
    "    site2_df.set_index(\"timestamp\", inplace=True)\n",
    "else:\n",
    "    site2_df = pd.read_csv(data_input.site2_data.value, parse_dates={\"timestamp\":time_cols2})\n",
    "    site2_df.set_index(\"timestamp\", inplace=True)\n",
    "    "
   ]
  },
  {
   "cell_type": "markdown",
   "metadata": {},
   "source": [
    "## Sample of the datasets\n",
    "\n",
    "  \n",
    "  Here are the first 5 lines of  your first input dataset below:\n",
    "  \n",
    "  &nbsp;\n",
    "  "
   ]
  },
  {
   "cell_type": "code",
   "execution_count": 5,
   "metadata": {},
   "outputs": [
    {
     "data": {
      "text/html": [
       "<div>\n",
       "<style scoped>\n",
       "    .dataframe tbody tr th:only-of-type {\n",
       "        vertical-align: middle;\n",
       "    }\n",
       "\n",
       "    .dataframe tbody tr th {\n",
       "        vertical-align: top;\n",
       "    }\n",
       "\n",
       "    .dataframe thead th {\n",
       "        text-align: right;\n",
       "    }\n",
       "</style>\n",
       "<table border=\"1\" class=\"dataframe\">\n",
       "  <thead>\n",
       "    <tr style=\"text-align: right;\">\n",
       "      <th></th>\n",
       "      <th>Voltage L1N Min</th>\n",
       "      <th>Voltage L1N Avg</th>\n",
       "      <th>Voltage L1N Max</th>\n",
       "      <th>Voltage L2N Min</th>\n",
       "      <th>Voltage L2N Avg</th>\n",
       "      <th>Voltage L2N Max</th>\n",
       "      <th>Voltage L3N Min</th>\n",
       "      <th>Voltage L3N Avg</th>\n",
       "      <th>Voltage L3N Max</th>\n",
       "      <th>Current L1 Min</th>\n",
       "      <th>...</th>\n",
       "      <th>THD A L1 Max</th>\n",
       "      <th>THD A L2 Min</th>\n",
       "      <th>THD A L2 Avg</th>\n",
       "      <th>THD A L2 Max</th>\n",
       "      <th>THD A L3 Min</th>\n",
       "      <th>THD A L3 Avg</th>\n",
       "      <th>THD A L3 Max</th>\n",
       "      <th>THD A N Min</th>\n",
       "      <th>THD A N Avg</th>\n",
       "      <th>THD A N Max</th>\n",
       "    </tr>\n",
       "    <tr>\n",
       "      <th>timestamp</th>\n",
       "      <th></th>\n",
       "      <th></th>\n",
       "      <th></th>\n",
       "      <th></th>\n",
       "      <th></th>\n",
       "      <th></th>\n",
       "      <th></th>\n",
       "      <th></th>\n",
       "      <th></th>\n",
       "      <th></th>\n",
       "      <th></th>\n",
       "      <th></th>\n",
       "      <th></th>\n",
       "      <th></th>\n",
       "      <th></th>\n",
       "      <th></th>\n",
       "      <th></th>\n",
       "      <th></th>\n",
       "      <th></th>\n",
       "      <th></th>\n",
       "      <th></th>\n",
       "    </tr>\n",
       "  </thead>\n",
       "  <tbody>\n",
       "    <tr>\n",
       "      <td>2019-11-18 11:45:43</td>\n",
       "      <td>244.845</td>\n",
       "      <td>244.937</td>\n",
       "      <td>245.028</td>\n",
       "      <td>244.375</td>\n",
       "      <td>244.453</td>\n",
       "      <td>244.532</td>\n",
       "      <td>245.159</td>\n",
       "      <td>245.224</td>\n",
       "      <td>245.290</td>\n",
       "      <td>50.264</td>\n",
       "      <td>...</td>\n",
       "      <td>24.5</td>\n",
       "      <td>16.7</td>\n",
       "      <td>16.7</td>\n",
       "      <td>16.9</td>\n",
       "      <td>14.1</td>\n",
       "      <td>14.5</td>\n",
       "      <td>14.8</td>\n",
       "      <td>96.4</td>\n",
       "      <td>96.5</td>\n",
       "      <td>96.8</td>\n",
       "    </tr>\n",
       "    <tr>\n",
       "      <td>2019-11-18 11:45:48</td>\n",
       "      <td>244.793</td>\n",
       "      <td>244.976</td>\n",
       "      <td>245.159</td>\n",
       "      <td>244.218</td>\n",
       "      <td>244.323</td>\n",
       "      <td>244.401</td>\n",
       "      <td>245.055</td>\n",
       "      <td>245.264</td>\n",
       "      <td>245.394</td>\n",
       "      <td>50.032</td>\n",
       "      <td>...</td>\n",
       "      <td>24.7</td>\n",
       "      <td>15.4</td>\n",
       "      <td>16.1</td>\n",
       "      <td>17.3</td>\n",
       "      <td>14.2</td>\n",
       "      <td>14.4</td>\n",
       "      <td>15.0</td>\n",
       "      <td>95.4</td>\n",
       "      <td>96.1</td>\n",
       "      <td>96.7</td>\n",
       "    </tr>\n",
       "    <tr>\n",
       "      <td>2019-11-18 11:45:53</td>\n",
       "      <td>244.872</td>\n",
       "      <td>245.081</td>\n",
       "      <td>245.185</td>\n",
       "      <td>244.218</td>\n",
       "      <td>244.336</td>\n",
       "      <td>244.427</td>\n",
       "      <td>245.185</td>\n",
       "      <td>245.329</td>\n",
       "      <td>245.420</td>\n",
       "      <td>49.705</td>\n",
       "      <td>...</td>\n",
       "      <td>24.7</td>\n",
       "      <td>15.6</td>\n",
       "      <td>15.8</td>\n",
       "      <td>16.0</td>\n",
       "      <td>14.1</td>\n",
       "      <td>14.6</td>\n",
       "      <td>14.9</td>\n",
       "      <td>95.4</td>\n",
       "      <td>95.6</td>\n",
       "      <td>95.8</td>\n",
       "    </tr>\n",
       "    <tr>\n",
       "      <td>2019-11-18 11:45:58</td>\n",
       "      <td>245.107</td>\n",
       "      <td>245.211</td>\n",
       "      <td>245.316</td>\n",
       "      <td>244.480</td>\n",
       "      <td>244.571</td>\n",
       "      <td>244.663</td>\n",
       "      <td>244.898</td>\n",
       "      <td>245.041</td>\n",
       "      <td>245.342</td>\n",
       "      <td>49.445</td>\n",
       "      <td>...</td>\n",
       "      <td>25.2</td>\n",
       "      <td>16.7</td>\n",
       "      <td>16.9</td>\n",
       "      <td>17.2</td>\n",
       "      <td>12.3</td>\n",
       "      <td>13.2</td>\n",
       "      <td>15.1</td>\n",
       "      <td>96.4</td>\n",
       "      <td>98.3</td>\n",
       "      <td>99.4</td>\n",
       "    </tr>\n",
       "    <tr>\n",
       "      <td>2019-11-18 11:46:03</td>\n",
       "      <td>245.002</td>\n",
       "      <td>245.055</td>\n",
       "      <td>245.159</td>\n",
       "      <td>244.114</td>\n",
       "      <td>244.375</td>\n",
       "      <td>244.558</td>\n",
       "      <td>245.185</td>\n",
       "      <td>245.264</td>\n",
       "      <td>245.316</td>\n",
       "      <td>49.255</td>\n",
       "      <td>...</td>\n",
       "      <td>25.0</td>\n",
       "      <td>15.7</td>\n",
       "      <td>16.8</td>\n",
       "      <td>17.4</td>\n",
       "      <td>14.3</td>\n",
       "      <td>14.6</td>\n",
       "      <td>15.1</td>\n",
       "      <td>95.3</td>\n",
       "      <td>96.2</td>\n",
       "      <td>96.8</td>\n",
       "    </tr>\n",
       "  </tbody>\n",
       "</table>\n",
       "<p>5 rows × 141 columns</p>\n",
       "</div>"
      ],
      "text/plain": [
       "                     Voltage L1N Min  Voltage L1N Avg  Voltage L1N Max  \\\n",
       "timestamp                                                                \n",
       "2019-11-18 11:45:43          244.845          244.937          245.028   \n",
       "2019-11-18 11:45:48          244.793          244.976          245.159   \n",
       "2019-11-18 11:45:53          244.872          245.081          245.185   \n",
       "2019-11-18 11:45:58          245.107          245.211          245.316   \n",
       "2019-11-18 11:46:03          245.002          245.055          245.159   \n",
       "\n",
       "                     Voltage L2N Min  Voltage L2N Avg  Voltage L2N Max  \\\n",
       "timestamp                                                                \n",
       "2019-11-18 11:45:43          244.375          244.453          244.532   \n",
       "2019-11-18 11:45:48          244.218          244.323          244.401   \n",
       "2019-11-18 11:45:53          244.218          244.336          244.427   \n",
       "2019-11-18 11:45:58          244.480          244.571          244.663   \n",
       "2019-11-18 11:46:03          244.114          244.375          244.558   \n",
       "\n",
       "                     Voltage L3N Min  Voltage L3N Avg  Voltage L3N Max  \\\n",
       "timestamp                                                                \n",
       "2019-11-18 11:45:43          245.159          245.224          245.290   \n",
       "2019-11-18 11:45:48          245.055          245.264          245.394   \n",
       "2019-11-18 11:45:53          245.185          245.329          245.420   \n",
       "2019-11-18 11:45:58          244.898          245.041          245.342   \n",
       "2019-11-18 11:46:03          245.185          245.264          245.316   \n",
       "\n",
       "                     Current L1 Min  ...  THD A L1 Max  THD A L2 Min  \\\n",
       "timestamp                            ...                               \n",
       "2019-11-18 11:45:43          50.264  ...          24.5          16.7   \n",
       "2019-11-18 11:45:48          50.032  ...          24.7          15.4   \n",
       "2019-11-18 11:45:53          49.705  ...          24.7          15.6   \n",
       "2019-11-18 11:45:58          49.445  ...          25.2          16.7   \n",
       "2019-11-18 11:46:03          49.255  ...          25.0          15.7   \n",
       "\n",
       "                     THD A L2 Avg  THD A L2 Max  THD A L3 Min  THD A L3 Avg  \\\n",
       "timestamp                                                                     \n",
       "2019-11-18 11:45:43          16.7          16.9          14.1          14.5   \n",
       "2019-11-18 11:45:48          16.1          17.3          14.2          14.4   \n",
       "2019-11-18 11:45:53          15.8          16.0          14.1          14.6   \n",
       "2019-11-18 11:45:58          16.9          17.2          12.3          13.2   \n",
       "2019-11-18 11:46:03          16.8          17.4          14.3          14.6   \n",
       "\n",
       "                     THD A L3 Max  THD A N Min  THD A N Avg  THD A N Max  \n",
       "timestamp                                                                 \n",
       "2019-11-18 11:45:43          14.8         96.4         96.5         96.8  \n",
       "2019-11-18 11:45:48          15.0         95.4         96.1         96.7  \n",
       "2019-11-18 11:45:53          14.9         95.4         95.6         95.8  \n",
       "2019-11-18 11:45:58          15.1         96.4         98.3         99.4  \n",
       "2019-11-18 11:46:03          15.1         95.3         96.2         96.8  \n",
       "\n",
       "[5 rows x 141 columns]"
      ]
     },
     "execution_count": 5,
     "metadata": {},
     "output_type": "execute_result"
    }
   ],
   "source": [
    "\n",
    "site1_df.head()\n"
   ]
  },
  {
   "cell_type": "markdown",
   "metadata": {},
   "source": [
    "  ----------------------\n",
    "  And here are the first 5 lines of your second input dataset below:\n",
    "  \n",
    "  ---------------------\n",
    "  "
   ]
  },
  {
   "cell_type": "code",
   "execution_count": 6,
   "metadata": {},
   "outputs": [
    {
     "data": {
      "text/html": [
       "<div>\n",
       "<style scoped>\n",
       "    .dataframe tbody tr th:only-of-type {\n",
       "        vertical-align: middle;\n",
       "    }\n",
       "\n",
       "    .dataframe tbody tr th {\n",
       "        vertical-align: top;\n",
       "    }\n",
       "\n",
       "    .dataframe thead th {\n",
       "        text-align: right;\n",
       "    }\n",
       "</style>\n",
       "<table border=\"1\" class=\"dataframe\">\n",
       "  <thead>\n",
       "    <tr style=\"text-align: right;\">\n",
       "      <th></th>\n",
       "      <th>Vrms ph-n L1N Min</th>\n",
       "      <th>Vrms ph-n L1N Avg</th>\n",
       "      <th>Vrms ph-n L1N Max</th>\n",
       "      <th>Vrms ph-n L2N Min</th>\n",
       "      <th>Vrms ph-n L2N Avg</th>\n",
       "      <th>Vrms ph-n L2N Max</th>\n",
       "      <th>Vrms ph-n L3N Min</th>\n",
       "      <th>Vrms ph-n L3N Avg</th>\n",
       "      <th>Vrms ph-n L3N Max</th>\n",
       "      <th>Vrms ph-n NG Min</th>\n",
       "      <th>...</th>\n",
       "      <th>THD A L1 Max</th>\n",
       "      <th>THD A L2 Min</th>\n",
       "      <th>THD A L2 Avg</th>\n",
       "      <th>THD A L2 Max</th>\n",
       "      <th>THD A L3 Min</th>\n",
       "      <th>THD A L3 Avg</th>\n",
       "      <th>THD A L3 Max</th>\n",
       "      <th>THD A N Min</th>\n",
       "      <th>THD A N Avg</th>\n",
       "      <th>THD A N Max</th>\n",
       "    </tr>\n",
       "    <tr>\n",
       "      <th>timestamp</th>\n",
       "      <th></th>\n",
       "      <th></th>\n",
       "      <th></th>\n",
       "      <th></th>\n",
       "      <th></th>\n",
       "      <th></th>\n",
       "      <th></th>\n",
       "      <th></th>\n",
       "      <th></th>\n",
       "      <th></th>\n",
       "      <th></th>\n",
       "      <th></th>\n",
       "      <th></th>\n",
       "      <th></th>\n",
       "      <th></th>\n",
       "      <th></th>\n",
       "      <th></th>\n",
       "      <th></th>\n",
       "      <th></th>\n",
       "      <th></th>\n",
       "      <th></th>\n",
       "    </tr>\n",
       "  </thead>\n",
       "  <tbody>\n",
       "    <tr>\n",
       "      <td>2019-11-17 23:59:04</td>\n",
       "      <td>246.48</td>\n",
       "      <td>246.50</td>\n",
       "      <td>246.52</td>\n",
       "      <td>245.98</td>\n",
       "      <td>246.00</td>\n",
       "      <td>246.02</td>\n",
       "      <td>245.96</td>\n",
       "      <td>245.96</td>\n",
       "      <td>245.98</td>\n",
       "      <td>0.04</td>\n",
       "      <td>...</td>\n",
       "      <td>15.75</td>\n",
       "      <td>12.13</td>\n",
       "      <td>12.18</td>\n",
       "      <td>12.24</td>\n",
       "      <td>11.70</td>\n",
       "      <td>11.73</td>\n",
       "      <td>11.75</td>\n",
       "      <td>265.54</td>\n",
       "      <td>266.25</td>\n",
       "      <td>266.94</td>\n",
       "    </tr>\n",
       "    <tr>\n",
       "      <td>2019-11-17 23:59:05</td>\n",
       "      <td>246.54</td>\n",
       "      <td>246.54</td>\n",
       "      <td>246.54</td>\n",
       "      <td>246.00</td>\n",
       "      <td>246.00</td>\n",
       "      <td>246.02</td>\n",
       "      <td>245.96</td>\n",
       "      <td>245.98</td>\n",
       "      <td>245.98</td>\n",
       "      <td>0.04</td>\n",
       "      <td>...</td>\n",
       "      <td>15.68</td>\n",
       "      <td>12.04</td>\n",
       "      <td>12.07</td>\n",
       "      <td>12.10</td>\n",
       "      <td>11.65</td>\n",
       "      <td>11.67</td>\n",
       "      <td>11.68</td>\n",
       "      <td>267.01</td>\n",
       "      <td>267.77</td>\n",
       "      <td>269.03</td>\n",
       "    </tr>\n",
       "    <tr>\n",
       "      <td>2019-11-17 23:59:06</td>\n",
       "      <td>246.50</td>\n",
       "      <td>246.52</td>\n",
       "      <td>246.54</td>\n",
       "      <td>245.98</td>\n",
       "      <td>245.98</td>\n",
       "      <td>246.00</td>\n",
       "      <td>245.94</td>\n",
       "      <td>245.96</td>\n",
       "      <td>245.98</td>\n",
       "      <td>0.04</td>\n",
       "      <td>...</td>\n",
       "      <td>15.64</td>\n",
       "      <td>12.01</td>\n",
       "      <td>12.02</td>\n",
       "      <td>12.03</td>\n",
       "      <td>11.64</td>\n",
       "      <td>11.64</td>\n",
       "      <td>11.65</td>\n",
       "      <td>269.44</td>\n",
       "      <td>270.26</td>\n",
       "      <td>271.18</td>\n",
       "    </tr>\n",
       "    <tr>\n",
       "      <td>2019-11-17 23:59:07</td>\n",
       "      <td>246.48</td>\n",
       "      <td>246.50</td>\n",
       "      <td>246.52</td>\n",
       "      <td>245.96</td>\n",
       "      <td>245.98</td>\n",
       "      <td>246.00</td>\n",
       "      <td>245.96</td>\n",
       "      <td>245.96</td>\n",
       "      <td>245.96</td>\n",
       "      <td>0.04</td>\n",
       "      <td>...</td>\n",
       "      <td>15.63</td>\n",
       "      <td>12.03</td>\n",
       "      <td>12.08</td>\n",
       "      <td>12.14</td>\n",
       "      <td>11.62</td>\n",
       "      <td>11.63</td>\n",
       "      <td>11.64</td>\n",
       "      <td>261.45</td>\n",
       "      <td>264.90</td>\n",
       "      <td>268.25</td>\n",
       "    </tr>\n",
       "    <tr>\n",
       "      <td>2019-11-17 23:59:08</td>\n",
       "      <td>246.48</td>\n",
       "      <td>246.48</td>\n",
       "      <td>246.50</td>\n",
       "      <td>245.94</td>\n",
       "      <td>245.98</td>\n",
       "      <td>246.00</td>\n",
       "      <td>245.92</td>\n",
       "      <td>245.94</td>\n",
       "      <td>245.96</td>\n",
       "      <td>0.04</td>\n",
       "      <td>...</td>\n",
       "      <td>15.90</td>\n",
       "      <td>12.11</td>\n",
       "      <td>12.22</td>\n",
       "      <td>12.35</td>\n",
       "      <td>11.58</td>\n",
       "      <td>11.69</td>\n",
       "      <td>11.83</td>\n",
       "      <td>261.01</td>\n",
       "      <td>262.81</td>\n",
       "      <td>265.47</td>\n",
       "    </tr>\n",
       "  </tbody>\n",
       "</table>\n",
       "<p>5 rows × 84 columns</p>\n",
       "</div>"
      ],
      "text/plain": [
       "                     Vrms ph-n L1N Min  Vrms ph-n L1N Avg  Vrms ph-n L1N Max  \\\n",
       "timestamp                                                                      \n",
       "2019-11-17 23:59:04             246.48             246.50             246.52   \n",
       "2019-11-17 23:59:05             246.54             246.54             246.54   \n",
       "2019-11-17 23:59:06             246.50             246.52             246.54   \n",
       "2019-11-17 23:59:07             246.48             246.50             246.52   \n",
       "2019-11-17 23:59:08             246.48             246.48             246.50   \n",
       "\n",
       "                     Vrms ph-n L2N Min  Vrms ph-n L2N Avg  Vrms ph-n L2N Max  \\\n",
       "timestamp                                                                      \n",
       "2019-11-17 23:59:04             245.98             246.00             246.02   \n",
       "2019-11-17 23:59:05             246.00             246.00             246.02   \n",
       "2019-11-17 23:59:06             245.98             245.98             246.00   \n",
       "2019-11-17 23:59:07             245.96             245.98             246.00   \n",
       "2019-11-17 23:59:08             245.94             245.98             246.00   \n",
       "\n",
       "                     Vrms ph-n L3N Min  Vrms ph-n L3N Avg  Vrms ph-n L3N Max  \\\n",
       "timestamp                                                                      \n",
       "2019-11-17 23:59:04             245.96             245.96             245.98   \n",
       "2019-11-17 23:59:05             245.96             245.98             245.98   \n",
       "2019-11-17 23:59:06             245.94             245.96             245.98   \n",
       "2019-11-17 23:59:07             245.96             245.96             245.96   \n",
       "2019-11-17 23:59:08             245.92             245.94             245.96   \n",
       "\n",
       "                     Vrms ph-n NG Min  ...  THD A L1 Max  THD A L2 Min  \\\n",
       "timestamp                              ...                               \n",
       "2019-11-17 23:59:04              0.04  ...         15.75         12.13   \n",
       "2019-11-17 23:59:05              0.04  ...         15.68         12.04   \n",
       "2019-11-17 23:59:06              0.04  ...         15.64         12.01   \n",
       "2019-11-17 23:59:07              0.04  ...         15.63         12.03   \n",
       "2019-11-17 23:59:08              0.04  ...         15.90         12.11   \n",
       "\n",
       "                     THD A L2 Avg  THD A L2 Max  THD A L3 Min  THD A L3 Avg  \\\n",
       "timestamp                                                                     \n",
       "2019-11-17 23:59:04         12.18         12.24         11.70         11.73   \n",
       "2019-11-17 23:59:05         12.07         12.10         11.65         11.67   \n",
       "2019-11-17 23:59:06         12.02         12.03         11.64         11.64   \n",
       "2019-11-17 23:59:07         12.08         12.14         11.62         11.63   \n",
       "2019-11-17 23:59:08         12.22         12.35         11.58         11.69   \n",
       "\n",
       "                     THD A L3 Max  THD A N Min  THD A N Avg  THD A N Max  \n",
       "timestamp                                                                 \n",
       "2019-11-17 23:59:04         11.75       265.54       266.25       266.94  \n",
       "2019-11-17 23:59:05         11.68       267.01       267.77       269.03  \n",
       "2019-11-17 23:59:06         11.65       269.44       270.26       271.18  \n",
       "2019-11-17 23:59:07         11.64       261.45       264.90       268.25  \n",
       "2019-11-17 23:59:08         11.83       261.01       262.81       265.47  \n",
       "\n",
       "[5 rows x 84 columns]"
      ]
     },
     "execution_count": 6,
     "metadata": {},
     "output_type": "execute_result"
    }
   ],
   "source": [
    "\n",
    "site2_df.head()\n"
   ]
  },
  {
   "cell_type": "markdown",
   "metadata": {},
   "source": [
    "## The Data at a First Glance\n",
    "  \n",
    "  &nbsp;\n",
    "  \n",
    "  Use the following to interact with the data. This section relies on the `ipywidgets` library and if this is not installed on your local system, you will need to do so as per the instructions in the **Importing the relevant libraries** section of this Notebook.\n",
    "  \n",
    "  &nbsp;"
   ]
  },
  {
   "cell_type": "code",
   "execution_count": 7,
   "metadata": {
    "code_folding": [
     0
    ]
   },
   "outputs": [
    {
     "name": "stdout",
     "output_type": "stream",
     "text": [
      "Enter the Site number that you would like to see data for: 1\n"
     ]
    }
   ],
   "source": [
    "# Viewing the data for a particular site \n",
    "\n",
    "# Ask user for the site they would like to view data for\n",
    "Site = input(\"Enter the Site number that you would like to see data for: \")\n",
    "\n",
    "# Choose the dataset based on the user input\n",
    "if Site == '1':\n",
    "    df = site1_df\n",
    "else:\n",
    "    df = site2_df"
   ]
  },
  {
   "cell_type": "code",
   "execution_count": 8,
   "metadata": {
    "code_folding": [
     0
    ]
   },
   "outputs": [
    {
     "data": {
      "application/vnd.jupyter.widget-view+json": {
       "model_id": "8247556e53e045eab9081e9208d5773e",
       "version_major": 2,
       "version_minor": 0
      },
      "text/plain": [
       "interactive(children=(Dropdown(description='Variable 1', options=('Voltage L1N Min', 'Voltage L1N Avg', 'Volta…"
      ]
     },
     "metadata": {},
     "output_type": "display_data"
    }
   ],
   "source": [
    "# Allow user input for the plotting of the data \n",
    "\n",
    "# This section will use the interact library to pull out the \n",
    "# data columns from the data for a dynamic plotting and visualization experience \n",
    "@interact\n",
    "# TODO: We will eventually clean up these functions so that they are not repetitive \n",
    "def sample_line_plot(Variable1=widgets.Dropdown(options=list(df.select_dtypes('number').columns), \n",
    "                                        description='Variable 1'),\n",
    "              Variable2=widgets.Dropdown(options=list(df.select_dtypes('number').columns), \n",
    "                                        description='Variable 2', value=df.columns.to_list()[1]),\n",
    "              time=widgets.ToggleButtons(options=['Raw', 'Minute', 'Hour', 'Day', 'Month'], \n",
    "                                                    description='Time'),\n",
    "              color_button=widgets.ToggleButtons(options=['white', 'polar', 'solar', 'henanigans'], \n",
    "                                                    description='Plot Theme'),\n",
    "              color_scale=widgets.ToggleButtons(options=['polar', 'spectral', 'pastel1', 'dark2'], \n",
    "                                                    description='Colour Scale')):\n",
    "    \n",
    "    \n",
    "    # The following resamples the data based on the user selection\n",
    "    if time == 'Raw':\n",
    "        new_df = df.resample('30S').mean()\n",
    "    elif time == 'Minute':\n",
    "        new_df = df.resample('T').mean()\n",
    "    elif time == 'Hour':\n",
    "        new_df = df.resample('H').mean()\n",
    "    elif time == 'Day':\n",
    "        new_df = df.resample('D').mean()\n",
    "    else:\n",
    "        new_df = df.resample('M').mean()\n",
    "                        \n",
    "    # The newly resampled data is then plotted based on the user's choice\n",
    "    new_df.iplot(kind='line', y=[Variable1, Variable2], xTitle='Time', yTitle='',\n",
    "                 title='Click on the legend to isolate parameters', mode='lines', theme=color_button, colorscale=color_scale)\n",
    "    "
   ]
  },
  {
   "cell_type": "markdown",
   "metadata": {},
   "source": [
    "## Resampling of Data\n",
    "  \n",
    "  &nbsp;\n",
    "  \n",
    "  This section will be used to resample the datasets (if needed) based on the data resolution as seen in the **Sample of the Datasets** section above. Please use the following to enter the resampling that you will like to use on a particular dataset. \n",
    "  \n",
    "  **If you are entering the** `spline` **method, the value in the dropdown represents the order of the spline interpolation**\n",
    "  \n",
    "  &nbsp;"
   ]
  },
  {
   "cell_type": "code",
   "execution_count": 9,
   "metadata": {
    "code_folding": [
     0
    ]
   },
   "outputs": [
    {
     "data": {
      "application/vnd.jupyter.widget-view+json": {
       "model_id": "8057992f7a7046f9a7ccf8046b4afe59",
       "version_major": 2,
       "version_minor": 0
      },
      "text/plain": [
       "Dropdown(description='Site: ', options=('1', '2'), value='1')"
      ]
     },
     "metadata": {},
     "output_type": "display_data"
    },
    {
     "data": {
      "application/vnd.jupyter.widget-view+json": {
       "model_id": "a0821a6643904e399bb27d73b6e0a346",
       "version_major": 2,
       "version_minor": 0
      },
      "text/plain": [
       "Text(value='Eg: 1S, 1M, 10M etc', description='Resample to: ')"
      ]
     },
     "metadata": {},
     "output_type": "display_data"
    },
    {
     "data": {
      "application/vnd.jupyter.widget-view+json": {
       "model_id": "48673b988d774274ac9a90d3a6fcf363",
       "version_major": 2,
       "version_minor": 0
      },
      "text/plain": [
       "Dropdown(description='Interpolation: ', options=('linear', 'spline, 2', 'spline, 3'), value='linear')"
      ]
     },
     "metadata": {},
     "output_type": "display_data"
    }
   ],
   "source": [
    "# Allow the user to resample a dataset. \n",
    "# This assumes that one dataset is resampled to the frequency of the other and thus \n",
    "# two datasets should not be resampled\n",
    "\n",
    "# This class is used for the resampling of the data, allowing user input to then \n",
    "# treat the data depending on the input parameters.\n",
    "class resample_input():\n",
    "    def __init__(self):\n",
    "        self.site = widgets.Dropdown(description = 'Site: ', options = ['1', '2'], value='1')\n",
    "        self.resample = widgets.Text(description = 'Resample to: ', value='Eg: 1S, 1M, 10M etc')\n",
    "        self.interp = widgets.Dropdown(description = 'Interpolation: ', \n",
    "                                       options = ['linear', 'spline, 2', 'spline, 3'], value='linear')\n",
    "        \n",
    "        self.resample.on_submit(self.handle_submit)\n",
    "        display(self.site, self.resample, self.interp)\n",
    "        \n",
    "    def handle_submit(self, text):\n",
    "        self.v = text.value\n",
    "        return self.v\n",
    "\n",
    "resamp_input = resample_input()\n"
   ]
  },
  {
   "cell_type": "code",
   "execution_count": 10,
   "metadata": {
    "code_folding": [
     0
    ]
   },
   "outputs": [
    {
     "name": "stdout",
     "output_type": "stream",
     "text": [
      "\n",
      "The first dataset has been resampled to 1S using the linear interpolation method based on your inputs\n"
     ]
    },
    {
     "data": {
      "text/html": [
       "<div>\n",
       "<style scoped>\n",
       "    .dataframe tbody tr th:only-of-type {\n",
       "        vertical-align: middle;\n",
       "    }\n",
       "\n",
       "    .dataframe tbody tr th {\n",
       "        vertical-align: top;\n",
       "    }\n",
       "\n",
       "    .dataframe thead th {\n",
       "        text-align: right;\n",
       "    }\n",
       "</style>\n",
       "<table border=\"1\" class=\"dataframe\">\n",
       "  <thead>\n",
       "    <tr style=\"text-align: right;\">\n",
       "      <th></th>\n",
       "      <th>Voltage L1N Min</th>\n",
       "      <th>Voltage L1N Avg</th>\n",
       "      <th>Voltage L1N Max</th>\n",
       "      <th>Voltage L2N Min</th>\n",
       "      <th>Voltage L2N Avg</th>\n",
       "      <th>Voltage L2N Max</th>\n",
       "      <th>Voltage L3N Min</th>\n",
       "      <th>Voltage L3N Avg</th>\n",
       "      <th>Voltage L3N Max</th>\n",
       "      <th>Current L1 Min</th>\n",
       "      <th>...</th>\n",
       "      <th>THD A L1 Max</th>\n",
       "      <th>THD A L2 Min</th>\n",
       "      <th>THD A L2 Avg</th>\n",
       "      <th>THD A L2 Max</th>\n",
       "      <th>THD A L3 Min</th>\n",
       "      <th>THD A L3 Avg</th>\n",
       "      <th>THD A L3 Max</th>\n",
       "      <th>THD A N Min</th>\n",
       "      <th>THD A N Avg</th>\n",
       "      <th>THD A N Max</th>\n",
       "    </tr>\n",
       "    <tr>\n",
       "      <th>timestamp</th>\n",
       "      <th></th>\n",
       "      <th></th>\n",
       "      <th></th>\n",
       "      <th></th>\n",
       "      <th></th>\n",
       "      <th></th>\n",
       "      <th></th>\n",
       "      <th></th>\n",
       "      <th></th>\n",
       "      <th></th>\n",
       "      <th></th>\n",
       "      <th></th>\n",
       "      <th></th>\n",
       "      <th></th>\n",
       "      <th></th>\n",
       "      <th></th>\n",
       "      <th></th>\n",
       "      <th></th>\n",
       "      <th></th>\n",
       "      <th></th>\n",
       "      <th></th>\n",
       "    </tr>\n",
       "  </thead>\n",
       "  <tbody>\n",
       "    <tr>\n",
       "      <td>2019-11-18 11:45:43</td>\n",
       "      <td>244.8450</td>\n",
       "      <td>244.9370</td>\n",
       "      <td>245.0280</td>\n",
       "      <td>244.3750</td>\n",
       "      <td>244.453</td>\n",
       "      <td>244.5320</td>\n",
       "      <td>245.1590</td>\n",
       "      <td>245.224</td>\n",
       "      <td>245.2900</td>\n",
       "      <td>50.2640</td>\n",
       "      <td>...</td>\n",
       "      <td>24.50</td>\n",
       "      <td>16.70</td>\n",
       "      <td>16.70</td>\n",
       "      <td>16.90</td>\n",
       "      <td>14.10</td>\n",
       "      <td>14.50</td>\n",
       "      <td>14.80</td>\n",
       "      <td>96.4</td>\n",
       "      <td>96.50</td>\n",
       "      <td>96.80</td>\n",
       "    </tr>\n",
       "    <tr>\n",
       "      <td>2019-11-18 11:45:44</td>\n",
       "      <td>244.8346</td>\n",
       "      <td>244.9448</td>\n",
       "      <td>245.0542</td>\n",
       "      <td>244.3436</td>\n",
       "      <td>244.427</td>\n",
       "      <td>244.5058</td>\n",
       "      <td>245.1382</td>\n",
       "      <td>245.232</td>\n",
       "      <td>245.3108</td>\n",
       "      <td>50.2176</td>\n",
       "      <td>...</td>\n",
       "      <td>24.54</td>\n",
       "      <td>16.44</td>\n",
       "      <td>16.58</td>\n",
       "      <td>16.98</td>\n",
       "      <td>14.12</td>\n",
       "      <td>14.48</td>\n",
       "      <td>14.84</td>\n",
       "      <td>96.2</td>\n",
       "      <td>96.42</td>\n",
       "      <td>96.78</td>\n",
       "    </tr>\n",
       "    <tr>\n",
       "      <td>2019-11-18 11:45:45</td>\n",
       "      <td>244.8242</td>\n",
       "      <td>244.9526</td>\n",
       "      <td>245.0804</td>\n",
       "      <td>244.3122</td>\n",
       "      <td>244.401</td>\n",
       "      <td>244.4796</td>\n",
       "      <td>245.1174</td>\n",
       "      <td>245.240</td>\n",
       "      <td>245.3316</td>\n",
       "      <td>50.1712</td>\n",
       "      <td>...</td>\n",
       "      <td>24.58</td>\n",
       "      <td>16.18</td>\n",
       "      <td>16.46</td>\n",
       "      <td>17.06</td>\n",
       "      <td>14.14</td>\n",
       "      <td>14.46</td>\n",
       "      <td>14.88</td>\n",
       "      <td>96.0</td>\n",
       "      <td>96.34</td>\n",
       "      <td>96.76</td>\n",
       "    </tr>\n",
       "    <tr>\n",
       "      <td>2019-11-18 11:45:46</td>\n",
       "      <td>244.8138</td>\n",
       "      <td>244.9604</td>\n",
       "      <td>245.1066</td>\n",
       "      <td>244.2808</td>\n",
       "      <td>244.375</td>\n",
       "      <td>244.4534</td>\n",
       "      <td>245.0966</td>\n",
       "      <td>245.248</td>\n",
       "      <td>245.3524</td>\n",
       "      <td>50.1248</td>\n",
       "      <td>...</td>\n",
       "      <td>24.62</td>\n",
       "      <td>15.92</td>\n",
       "      <td>16.34</td>\n",
       "      <td>17.14</td>\n",
       "      <td>14.16</td>\n",
       "      <td>14.44</td>\n",
       "      <td>14.92</td>\n",
       "      <td>95.8</td>\n",
       "      <td>96.26</td>\n",
       "      <td>96.74</td>\n",
       "    </tr>\n",
       "    <tr>\n",
       "      <td>2019-11-18 11:45:47</td>\n",
       "      <td>244.8034</td>\n",
       "      <td>244.9682</td>\n",
       "      <td>245.1328</td>\n",
       "      <td>244.2494</td>\n",
       "      <td>244.349</td>\n",
       "      <td>244.4272</td>\n",
       "      <td>245.0758</td>\n",
       "      <td>245.256</td>\n",
       "      <td>245.3732</td>\n",
       "      <td>50.0784</td>\n",
       "      <td>...</td>\n",
       "      <td>24.66</td>\n",
       "      <td>15.66</td>\n",
       "      <td>16.22</td>\n",
       "      <td>17.22</td>\n",
       "      <td>14.18</td>\n",
       "      <td>14.42</td>\n",
       "      <td>14.96</td>\n",
       "      <td>95.6</td>\n",
       "      <td>96.18</td>\n",
       "      <td>96.72</td>\n",
       "    </tr>\n",
       "  </tbody>\n",
       "</table>\n",
       "<p>5 rows × 141 columns</p>\n",
       "</div>"
      ],
      "text/plain": [
       "                     Voltage L1N Min  Voltage L1N Avg  Voltage L1N Max  \\\n",
       "timestamp                                                                \n",
       "2019-11-18 11:45:43         244.8450         244.9370         245.0280   \n",
       "2019-11-18 11:45:44         244.8346         244.9448         245.0542   \n",
       "2019-11-18 11:45:45         244.8242         244.9526         245.0804   \n",
       "2019-11-18 11:45:46         244.8138         244.9604         245.1066   \n",
       "2019-11-18 11:45:47         244.8034         244.9682         245.1328   \n",
       "\n",
       "                     Voltage L2N Min  Voltage L2N Avg  Voltage L2N Max  \\\n",
       "timestamp                                                                \n",
       "2019-11-18 11:45:43         244.3750          244.453         244.5320   \n",
       "2019-11-18 11:45:44         244.3436          244.427         244.5058   \n",
       "2019-11-18 11:45:45         244.3122          244.401         244.4796   \n",
       "2019-11-18 11:45:46         244.2808          244.375         244.4534   \n",
       "2019-11-18 11:45:47         244.2494          244.349         244.4272   \n",
       "\n",
       "                     Voltage L3N Min  Voltage L3N Avg  Voltage L3N Max  \\\n",
       "timestamp                                                                \n",
       "2019-11-18 11:45:43         245.1590          245.224         245.2900   \n",
       "2019-11-18 11:45:44         245.1382          245.232         245.3108   \n",
       "2019-11-18 11:45:45         245.1174          245.240         245.3316   \n",
       "2019-11-18 11:45:46         245.0966          245.248         245.3524   \n",
       "2019-11-18 11:45:47         245.0758          245.256         245.3732   \n",
       "\n",
       "                     Current L1 Min  ...  THD A L1 Max  THD A L2 Min  \\\n",
       "timestamp                            ...                               \n",
       "2019-11-18 11:45:43         50.2640  ...         24.50         16.70   \n",
       "2019-11-18 11:45:44         50.2176  ...         24.54         16.44   \n",
       "2019-11-18 11:45:45         50.1712  ...         24.58         16.18   \n",
       "2019-11-18 11:45:46         50.1248  ...         24.62         15.92   \n",
       "2019-11-18 11:45:47         50.0784  ...         24.66         15.66   \n",
       "\n",
       "                     THD A L2 Avg  THD A L2 Max  THD A L3 Min  THD A L3 Avg  \\\n",
       "timestamp                                                                     \n",
       "2019-11-18 11:45:43         16.70         16.90         14.10         14.50   \n",
       "2019-11-18 11:45:44         16.58         16.98         14.12         14.48   \n",
       "2019-11-18 11:45:45         16.46         17.06         14.14         14.46   \n",
       "2019-11-18 11:45:46         16.34         17.14         14.16         14.44   \n",
       "2019-11-18 11:45:47         16.22         17.22         14.18         14.42   \n",
       "\n",
       "                     THD A L3 Max  THD A N Min  THD A N Avg  THD A N Max  \n",
       "timestamp                                                                 \n",
       "2019-11-18 11:45:43         14.80         96.4        96.50        96.80  \n",
       "2019-11-18 11:45:44         14.84         96.2        96.42        96.78  \n",
       "2019-11-18 11:45:45         14.88         96.0        96.34        96.76  \n",
       "2019-11-18 11:45:46         14.92         95.8        96.26        96.74  \n",
       "2019-11-18 11:45:47         14.96         95.6        96.18        96.72  \n",
       "\n",
       "[5 rows x 141 columns]"
      ]
     },
     "metadata": {},
     "output_type": "display_data"
    }
   ],
   "source": [
    "# Perform the resampling based on the input above \n",
    "\n",
    "# This section will print a confirmation of the resampling and some sample data from the dataset\n",
    "# First parses the user input and preallocates the dataframe objects \n",
    "interp = resamp_input.interp.value.split(\", \")\n",
    "site1_rs_df, site2_rs_df = None, None\n",
    "\n",
    "# Display and resample based on the site that was selected\n",
    "if resamp_input.site.value == '1':\n",
    "    print(\"\\nThe first dataset has been resampled to {} using the {} interpolation method based on your inputs\"\n",
    "          .format(resamp_input.resample.value, interp[0]))\n",
    "    \n",
    "    # Applies the order of the spline if this was selected\n",
    "    if len(interp) > 1:\n",
    "        site1_rs_df = site1_df.resample(resamp_input.resample.value).interpolate(method=interp[0], order=interp[1])\n",
    "    else:\n",
    "        site1_rs_df = site1_df.resample(resamp_input.resample.value).interpolate(method=interp[0])\n",
    "        \n",
    "    # Display function needed to force output\n",
    "    display(site1_rs_df.head())\n",
    "\n",
    "else:\n",
    "    print(\"\\nThe second dataset has been resampled to {} using the {} interpolation method based on your inputs\"\n",
    "          .format(resamp_input.resample.value, interp[0]))\n",
    "    if len(interp) > 1:\n",
    "        site2_rs_df = site2_df.resample(resamp_input.resample.value).interpolate(method=interp[0], order=interp[1])\n",
    "    else:\n",
    "        site2_rs_df = site2_df.resample(resamp_input.resample.value).interpolate(method=interp[0])\n",
    "    display(site2_rs_df.head())\n",
    "    "
   ]
  },
  {
   "cell_type": "markdown",
   "metadata": {},
   "source": [
    "## Time syncing data\n",
    "\n",
    "  &nbsp;\n",
    "  \n",
    "  This section will look at the data from the two datasets (please note that their data times must overlap) to join the data based on columns of choice. This will allow the user to examine data from the two sites, giving the opportunity to compare the data of selected variables. \n",
    "  \n",
    "  This section will also rely on correlation statistics to automatically sync the two datasets based on the input variables. For instance, if the average voltage from each site is chosen, the function can automatically detect where there is a lag in one site's data versus the other, for instance, by 5 seconds etc. The data will then be time shifted to remove these lags for further analysis. This is explained a bit more in the **Data Cleaning and Processes** document found on the [SharePoint](https://ssecom.sharepoint.com/sites/extranet-networks-engineering_NIC/Shared%20Documents/WP4/Deliverables).\n",
    "  \n",
    "  Unsynced data happens when there is a strong correlation between the signals in the power data but there is a shift owing to an existing time lag in data recordings between the two sites of interest. More information on the *Time Lagged Cross-Correlation (TLCC)* technique used can be found [here](https://towardsdatascience.com/four-ways-to-quantify-synchrony-between-time-series-data-b99136c4a9c9).\n",
    "  \n",
    "  **You must ensure that the datasets match in resolution (with an overlap of time periods in the data) using the sections above if needed**\n",
    "  \n",
    "  &nbsp;\n",
    "  \n",
    "  ### The data will first be concatenated based on the variables of interest\n",
    "  \n",
    "  &nbsp;\n"
   ]
  },
  {
   "cell_type": "code",
   "execution_count": 11,
   "metadata": {
    "code_folding": [
     0
    ]
   },
   "outputs": [
    {
     "data": {
      "application/vnd.jupyter.widget-view+json": {
       "model_id": "92aff6d37c274766bcef825379107e3e",
       "version_major": 2,
       "version_minor": 0
      },
      "text/plain": [
       "Dropdown(description='Site 1 Variable: ', options=('Voltage L1N Min', 'Voltage L1N Avg', 'Voltage L1N Max', 'V…"
      ]
     },
     "metadata": {},
     "output_type": "display_data"
    },
    {
     "data": {
      "application/vnd.jupyter.widget-view+json": {
       "model_id": "bed256ac97004cec9b9873fcb62381a4",
       "version_major": 2,
       "version_minor": 0
      },
      "text/plain": [
       "Dropdown(description='Site 2 Variable: ', options=('Vrms ph-n L1N Min', 'Vrms ph-n L1N Avg', 'Vrms ph-n L1N Ma…"
      ]
     },
     "metadata": {},
     "output_type": "display_data"
    }
   ],
   "source": [
    "# Allow the user to concatenate the two datasets based on selected variables \n",
    "\n",
    "# This class allows the user to select the two variables in the datasets that they would like to use\n",
    "# for the potential error detection in terms of unsynced data. \n",
    "class concat_data():\n",
    "    def __init__(self):\n",
    "               \n",
    "        self.site1 = widgets.Dropdown(description='Site 1 Variable: ', \n",
    "                                     options=list(site1_df.select_dtypes('number').columns))\n",
    "        self.site2 = widgets.Dropdown(description='Site 2 Variable: ', \n",
    "                                     options=list(site2_df.select_dtypes('number').columns))\n",
    "        \n",
    "        display(self.site1, self.site2)\n",
    "        \n",
    "        # Assumes only one or none of the datasets has been resampled for simplicity\n",
    "        # thus allowing the concatenation of the right dataset\n",
    "        if site1_rs_df is not None:\n",
    "            self.site_df_comb = pd.concat([site1_rs_df[self.site1.value], site2_df[self.site2.value]], axis=1, join='inner', sort=False)\n",
    "            self.site1_var, self.site2_var = site1_rs_df[self.site1.value], site2_df[self.site2.value]\n",
    "        elif site2_rs_df is not None:\n",
    "            self.site_df_comb = pd.concat([site1_df[self.site1.value], site2_rs_df[self.site2.value]], axis=1, join='inner', sort=False)\n",
    "            self.site1_var, self.site2_var = site1_df[self.site1.value], site2_rs_df[self.site2.value]\n",
    "        else:\n",
    "            self.site_df_comb = pd.concat([site1_df[self.site1.value], site2_df[self.site2.value]], axis=1, join='inner', sort=False)\n",
    "            self.site1_var, self.site2_var = site1_df[self.site1.value], site2_df[self.site2.value]\n",
    "            \n",
    "concat_input = concat_data()\n"
   ]
  },
  {
   "cell_type": "code",
   "execution_count": 12,
   "metadata": {
    "code_folding": [
     0
    ]
   },
   "outputs": [
    {
     "data": {
      "application/vnd.jupyter.widget-view+json": {
       "model_id": "260c042387374497a1cd8bd86072fbb0",
       "version_major": 2,
       "version_minor": 0
      },
      "text/plain": [
       "interactive(children=(ToggleButtons(description='Time', options=('Raw', 'Minute', 'Hour', 'Day', 'Month'), val…"
      ]
     },
     "metadata": {},
     "output_type": "display_data"
    }
   ],
   "source": [
    "# Plot the data based on the input above \n",
    "@interact\n",
    "def comb_line_plot(time=widgets.ToggleButtons(options=['Raw', 'Minute', 'Hour', 'Day', 'Month'], \n",
    "                                                    description='Time'),\n",
    "              color_button=widgets.ToggleButtons(options=['white', 'polar', 'solar', 'henanigans'], \n",
    "                                                    description='Plot Theme'),\n",
    "              color_scale=widgets.ToggleButtons(options=['polar', 'spectral', 'pastel1', 'dark2'], \n",
    "                                                    description='Colour Scale')):\n",
    "    \n",
    "    \n",
    "    # The following resamples the data based on the user selection\n",
    "    df=concat_input.site_df_comb\n",
    "    \n",
    "    if time == 'Raw':\n",
    "        new_df = df.resample('30S').mean()\n",
    "    elif time == 'Minute':\n",
    "        new_df = df.resample('T').mean()\n",
    "    elif time == 'Hour':\n",
    "        new_df = df.resample('H').mean()\n",
    "    elif time == 'Day':\n",
    "        new_df = df.resample('D').mean()\n",
    "    else:\n",
    "        new_df = df.resample('M').mean()\n",
    "                        \n",
    "    # The newly resampled data is then plotted based on the user's choice\n",
    "    new_df.iplot(kind='line', xTitle='Time', yTitle='',\n",
    "                 title='Click on the legend to isolate parameters', mode='lines', theme=color_button, colorscale=color_scale)"
   ]
  },
  {
   "cell_type": "code",
   "execution_count": 19,
   "metadata": {
    "code_folding": [
     0
    ]
   },
   "outputs": [
    {
     "name": "stdout",
     "output_type": "stream",
     "text": [
      "The 'Voltage L1N Min' and 'Voltage L1N Min' of Site 1 and 2 respectively have a lag of 3.20 minutes in their signals and thus will be synced to remove this offset in the data\n"
     ]
    },
    {
     "data": {
      "application/vnd.jupyter.widget-view+json": {
       "model_id": "72fc4ef604e64b46b9cf3cccdaafd762",
       "version_major": 2,
       "version_minor": 0
      },
      "text/plain": [
       "Dropdown(description='Sync data?: ', options=('Select an Option', 'Yes, sync based on offset above', 'No, leav…"
      ]
     },
     "metadata": {},
     "output_type": "display_data"
    }
   ],
   "source": [
    "# Perform the cross-correlation analysis using the two input parameters \n",
    "def crosscorr(data1, data2, lag=0, wrap=False):\n",
    "    \n",
    "    # If there is a wrap flag, the following wraps the data so that the correlation \n",
    "    # values on the 'edges' of the data are still calculated by adding the data from the other side of the signal:\n",
    "    if wrap:\n",
    "        shifted2 = data2.shift(lag)\n",
    "        shifted2.iloc[:lag] = data2.iloc[-lag:].values\n",
    "        return data1.corr(shifted2)\n",
    "    else: \n",
    "        # Otherwise, return the correlation value of the two datasets based on the lag\n",
    "        return data1.corr(data2.shift(lag))\n",
    "\n",
    "# The following will implement the function above, across a range of lag times to find \n",
    "# the lag where the correlation is the highest. The direction of the correlation (+/-) \n",
    "# indicates if the first site is lagging or leading in the signal.\n",
    "data = concat_input.site_df_comb.copy()\n",
    "d1 = data.iloc[:,0]\n",
    "d2 = data.iloc[:,1]\n",
    "\n",
    "# The 'lag_range' variable may need to be adjusted if the data is really not synced well\n",
    "lag_range = 500\n",
    "corr_vals = [crosscorr(d1, d2, lag) for lag in range(-int(lag_range),int(lag_range+1))]\n",
    "max_shift = np.ceil(len(corr_vals)/2) - np.argmax(corr_vals)\n",
    "\n",
    "# Find the frequency of the dataset in order to report the lag (if any in the data)\n",
    "freq = (data.index[1] - data.index[0]).seconds\n",
    "if freq < 3600:\n",
    "    # report in minutes\n",
    "    print(\"The '{}' and '{}' of Site 1 and 2 respectively have a lag of {:.2f} minutes in their signals and thus will be synced to remove this offset in the data\".format(data.columns[0], data.columns[0], abs(max_shift/60)))\n",
    "\n",
    "else:\n",
    "    # report in hours (should be uncommon)\n",
    "    print(\"The '{}' and '{}' of Site 1 and 2 respectively have a lag of {:.2f} hours in their signals and thus will be synced to remove this offset in the data\".format(data.columns[0], data.columns[0], abs(max_shift/3600)))\n",
    "    \n",
    "\n",
    "class lag_options():\n",
    "    def __init__(self):\n",
    "               \n",
    "        self.choice = widgets.Dropdown(description='Sync data?: ', \n",
    "                                     options=['Select an Option','Yes, sync based on offset above', \n",
    "                                              'No, leave in raw format'])\n",
    "        display(self.choice)\n",
    "        \n",
    "sync_input = lag_options()"
   ]
  },
  {
   "cell_type": "code",
   "execution_count": 15,
   "metadata": {
    "code_folding": [
     0
    ]
   },
   "outputs": [
    {
     "data": {
      "application/vnd.jupyter.widget-view+json": {
       "model_id": "2680ff503a624523b5c0515741808784",
       "version_major": 2,
       "version_minor": 0
      },
      "text/plain": [
       "interactive(children=(ToggleButtons(description='Time', options=('Raw', 'Minute', 'Hour', 'Day', 'Month'), val…"
      ]
     },
     "metadata": {},
     "output_type": "display_data"
    }
   ],
   "source": [
    "# Displays the newly synced data if time syncing is applied\n",
    "\n",
    "if sync_input.choice.value == 'Yes, sync based on offset above':\n",
    "    \n",
    "    # If 'max_shift' is negative, the first site is the lead in the lag\n",
    "    # and thus needs to be shifted forward by the 'max_shift' value\n",
    "    if max_shift < 0:\n",
    "        data_shift = concat_input.site_df_comb.copy()\n",
    "        data_noshift = concat_input.site_df_comb.copy()\n",
    "\n",
    "        data_shift.drop(data_shift.columns[1], axis=1, inplace=True)\n",
    "        data_shift.index = data_shift.index + pd.Timedelta(seconds=max_shift)\n",
    "\n",
    "        data_noshift.drop(data_noshift.columns[0], axis=1, inplace=True)\n",
    "        sync_site_df_comb = pd.concat([data_noshift, data_shift], axis=1, join='inner', sort=False)\n",
    "        \n",
    "    else:\n",
    "        data_shift = concat_input.site_df_comb.copy()\n",
    "        data_noshift = concat_input.site_df_comb.copy()\n",
    "\n",
    "        data_shift.drop(data_shift.columns[0], axis=1, inplace=True)\n",
    "        data_shift.index = data_shift.index + pd.Timedelta(seconds=max_shift)\n",
    "\n",
    "        data_noshift.drop(data_noshift.columns[1], axis=1, inplace=True)\n",
    "        sync_site_df_comb = pd.concat([data_shift, data_noshift], axis=1, join='inner', sort=False)        \n",
    "        \n",
    "        \n",
    "    @interact\n",
    "    def sync_line_plot(time=widgets.ToggleButtons(options=['Raw', 'Minute', 'Hour', 'Day', 'Month'], \n",
    "                                                        description='Time'),\n",
    "                       color_button=widgets.ToggleButtons(options=['white', 'polar', 'solar', 'henanigans'], \n",
    "                                                        description='Plot Theme'),\n",
    "                       color_scale=widgets.ToggleButtons(options=['polar', 'spectral', 'pastel1', 'dark2'], \n",
    "                                                        description='Colour Scale')):\n",
    "\n",
    "\n",
    "        # The following resamples the data based on the user selection\n",
    "        new_df=sync_site_df_comb\n",
    "\n",
    "        if time == 'Raw':\n",
    "            new_df = new_df.resample('30S').mean()\n",
    "        elif time == 'Minute':\n",
    "            new_df = new_df.resample('T').mean()\n",
    "        elif time == 'Hour':\n",
    "            new_df = new_df.resample('H').mean()\n",
    "        elif time == 'Day':\n",
    "            new_df = new_df.resample('D').mean()\n",
    "        else:\n",
    "            new_df = new_df.resample('M').mean()\n",
    "            \n",
    "            \n",
    "        # The newly resampled data is then plotted based on the user's choice\n",
    "        new_df.iplot(kind='line', xTitle='Time', yTitle='',\n",
    "                     mode='lines', theme=color_button, colorscale=color_scale)\n",
    "\n",
    "else:\n",
    "    print(\"The datasets will be left in their raw format\")\n"
   ]
  },
  {
   "cell_type": "code",
   "execution_count": 17,
   "metadata": {
    "code_folding": [
     0
    ]
   },
   "outputs": [
    {
     "data": {
      "application/vnd.jupyter.widget-view+json": {
       "model_id": "3416e27a508648bea4d9ff19bbb0341e",
       "version_major": 2,
       "version_minor": 0
      },
      "text/plain": [
       "interactive(children=(ToggleButtons(description='Time', options=('Raw', 'Minute', 'Hour', 'Day', 'Month'), val…"
      ]
     },
     "metadata": {},
     "output_type": "display_data"
    }
   ],
   "source": [
    "# Allow the user to compare the synced and unsynced datasets\n",
    "\n",
    "@interact\n",
    "def sync_line_plot(time=widgets.ToggleButtons(options=['Raw', 'Minute', 'Hour', 'Day', 'Month'], \n",
    "                                                    description='Time'),\n",
    "                   color_button=widgets.ToggleButtons(options=['plotly_white', 'simple_white', 'ggplot2', 'seaborn'], \n",
    "                                                    description='Plot Theme')):\n",
    "\n",
    "\n",
    "    # The following resamples the data based on the user selection\n",
    "    new_df1=concat_input.site_df_comb\n",
    "    new_df2=sync_site_df_comb\n",
    "\n",
    "    if time == 'Raw':\n",
    "        new_df1 = new_df1.resample('30S').mean()\n",
    "        new_df2 = new_df2.resample('30S').mean()\n",
    "    elif time == 'Minute':\n",
    "        new_df1 = new_df1.resample('T').mean()\n",
    "        new_df2 = new_df2.resample('T').mean()\n",
    "    elif time == 'Hour':\n",
    "        new_df1 = new_df1.resample('H').mean()\n",
    "        new_df2 = new_df2.resample('H').mean()\n",
    "    elif time == 'Day':\n",
    "        new_df1 = new_df1.resample('D').mean()\n",
    "        new_df2 = new_df2.resample('D').mean()\n",
    "    else:\n",
    "        new_df1 = new_df1.resample('M').mean()\n",
    "        new_df2 = new_df2.resample('M').mean()\n",
    "\n",
    "\n",
    "    # The newly resampled data is then plotted based on the user's choice\n",
    "    fig = make_subplots(rows=2, cols=1, shared_xaxes=True)\n",
    "\n",
    "    fig.add_trace(go.Line(x=new_df1.index, y=new_df1[new_df1.columns[0]], name=new_df1.columns[0]), row=1, col=1)\n",
    "    fig.add_trace(go.Line(x=new_df1.index, y=new_df1[new_df1.columns[1]], name=new_df1.columns[1]), row=1, col=1)\n",
    "    \n",
    "    fig.add_trace(go.Line(x=new_df2.index, y=new_df2[new_df1.columns[1]], name=new_df2.columns[1]), row=2, col=1)\n",
    "    fig.add_trace(go.Line(x=new_df2.index, y=new_df2[new_df1.columns[0]], name=new_df2.columns[0]), row=2, col=1)\n",
    "\n",
    "    # Formatting\n",
    "    fig.update_yaxes(title_text=\"Raw data\", row=1, col=1)\n",
    "    fig.update_yaxes(title_text=\"Synced data\", row=2, col=1)\n",
    "\n",
    "    fig.update_layout(height=800, width=950, title_text=\"Time Sync Comparison. Use 'Pan' tool to zoom in to specific times\", template=color_button)\n",
    "    iplot(fig)\n",
    "    "
   ]
  },
  {
   "cell_type": "markdown",
   "metadata": {},
   "source": [
    "## Corrected data \n",
    "*(if errors found)*\n",
    "\n",
    "  Further functionality for outputting the corrected data will eventually be streamline with the other error detection methods in Project LEO and updated here."
   ]
  }
 ],
 "metadata": {
  "kernelspec": {
   "display_name": "Python 3",
   "language": "python",
   "name": "python3"
  },
  "language_info": {
   "codemirror_mode": {
    "name": "ipython",
    "version": 3
   },
   "file_extension": ".py",
   "mimetype": "text/x-python",
   "name": "python",
   "nbconvert_exporter": "python",
   "pygments_lexer": "ipython3",
   "version": "3.7.4"
  }
 },
 "nbformat": 4,
 "nbformat_minor": 2
}
